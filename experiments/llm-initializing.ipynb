{
 "cells": [
  {
   "cell_type": "code",
   "execution_count": 2,
   "id": "7d2d75fd",
   "metadata": {},
   "outputs": [],
   "source": [
    "import os"
   ]
  },
  {
   "cell_type": "code",
   "execution_count": 3,
   "id": "f59a8237",
   "metadata": {},
   "outputs": [
    {
     "data": {
      "text/plain": [
       "True"
      ]
     },
     "execution_count": 3,
     "metadata": {},
     "output_type": "execute_result"
    }
   ],
   "source": [
    "from dotenv import load_dotenv\n",
    "\n",
    "load_dotenv()"
   ]
  },
  {
   "cell_type": "code",
   "execution_count": 4,
   "id": "f1c65f49",
   "metadata": {},
   "outputs": [],
   "source": [
    "## setting GOOGLE API KEY in the environment variable\n",
    " \n",
    "os.environ[\"GOOGLE_API_KEY\"] = os.getenv(\"GOOGLE_API_KEY\")"
   ]
  },
  {
   "cell_type": "code",
   "execution_count": 5,
   "id": "74c4c65a",
   "metadata": {},
   "outputs": [],
   "source": [
    "## setting LANGSMITH API KEY in environment variable for tracking\n",
    "\n",
    "os.environ[\"LANGSMITH_API_KEY\"] = os.getenv(\"LANGSMITH_API_KEY\")\n",
    "os.environ[\"LANGSMITH_TRACING\"] = \"true\""
   ]
  },
  {
   "cell_type": "code",
   "execution_count": 6,
   "id": "cb811ece",
   "metadata": {},
   "outputs": [],
   "source": [
    "## initialising llm\n",
    "\n",
    "from langchain_google_genai import ChatGoogleGenerativeAI\n",
    "model = ChatGoogleGenerativeAI(model = \"gemini-2.0-flash\", convert_system_message_to_human=True)"
   ]
  },
  {
   "cell_type": "code",
   "execution_count": 7,
   "id": "f33b3427",
   "metadata": {},
   "outputs": [
    {
     "name": "stderr",
     "output_type": "stream",
     "text": [
      "/Users/yash/Library/mcqgen/rag-assistant/lib/python3.10/site-packages/langchain_google_genai/chat_models.py:424: UserWarning: Convert_system_message_to_human will be deprecated!\n",
      "  warnings.warn(\"Convert_system_message_to_human will be deprecated!\")\n"
     ]
    },
    {
     "data": {
      "text/plain": [
       "AIMessage(content='मैं प्रोग्रामिंग से प्यार करता हूँ। (Main programming se pyaar karta hun.)', additional_kwargs={}, response_metadata={'prompt_feedback': {'block_reason': 0, 'safety_ratings': []}, 'finish_reason': 'STOP', 'model_name': 'gemini-2.0-flash', 'safety_ratings': []}, id='run--0bd815e7-7a94-408b-9ef3-455a6a3f0471-0', usage_metadata={'input_tokens': 20, 'output_tokens': 24, 'total_tokens': 44, 'input_token_details': {'cache_read': 0}})"
      ]
     },
     "execution_count": 7,
     "metadata": {},
     "output_type": "execute_result"
    }
   ],
   "source": [
    "## invoking from llm\n",
    "\n",
    "messages = [\n",
    "    (\n",
    "        \"system\",\n",
    "        \"You are a helpful assistant that translates English to Hindi. Translate the user sentence.\",\n",
    "    ),\n",
    "    (\"human\", \"I love programming.\"),\n",
    "]\n",
    "ai_msg = model.invoke(messages)\n",
    "ai_msg"
   ]
  },
  {
   "cell_type": "code",
   "execution_count": 8,
   "id": "7240b546",
   "metadata": {},
   "outputs": [
    {
     "name": "stdout",
     "output_type": "stream",
     "text": [
      "मैं प्रोग्रामिंग से प्यार करता हूँ। (Main programming se pyaar karta hun.)\n"
     ]
    }
   ],
   "source": [
    "print(ai_msg.content)"
   ]
  },
  {
   "cell_type": "code",
   "execution_count": 9,
   "id": "494a320c",
   "metadata": {},
   "outputs": [
    {
     "name": "stderr",
     "output_type": "stream",
     "text": [
      "/Users/yash/Library/mcqgen/rag-assistant/lib/python3.10/site-packages/langchain_google_genai/chat_models.py:424: UserWarning: Convert_system_message_to_human will be deprecated!\n",
      "  warnings.warn(\"Convert_system_message_to_human will be deprecated!\")\n"
     ]
    },
    {
     "name": "stdout",
     "output_type": "stream",
     "text": [
      "Shravan Shivratri will be observed on July 23, 2025. However, the main festival of Mahashivratri will be celebrated on February 26, 2025.\n"
     ]
    }
   ],
   "source": [
    "## using genai tool for google search\n",
    " \n",
    "from google.ai.generativelanguage_v1beta.types import Tool as GenAITool\n",
    "\n",
    "resp = model.invoke(\n",
    "    \"When is mahashivratri of shravan in 2025?\",\n",
    "    tools=[GenAITool(google_search={})],\n",
    ")\n",
    "\n",
    "print(resp.content)"
   ]
  },
  {
   "cell_type": "code",
   "execution_count": 10,
   "id": "e9a460d6",
   "metadata": {},
   "outputs": [
    {
     "name": "stderr",
     "output_type": "stream",
     "text": [
      "/Users/yash/Library/mcqgen/rag-assistant/lib/python3.10/site-packages/langchain_google_genai/chat_models.py:424: UserWarning: Convert_system_message_to_human will be deprecated!\n",
      "  warnings.warn(\"Convert_system_message_to_human will be deprecated!\")\n"
     ]
    },
    {
     "name": "stdout",
     "output_type": "stream",
     "text": [
      "The 2025 Indian Premier League (IPL), officially known as TATA IPL 2025, was the 18th edition of the professional Twenty20 cricket league in India. The season was originally scheduled from March 22 to May 25, but it was suspended on May 9 due to the India-Pakistan crisis and later resumed on May 17, with the final match rescheduled to June 3.\n",
      "\n",
      "Here's a summary of the key highlights from IPL 2025:\n",
      "\n",
      "*   **Tournament Structure**: The tournament featured 10 teams competing in a total of 74 matches. Each team played 14 league matches, facing teams within their group and a designated team from the other group twice, and the remaining teams from the opposite group once.\n",
      "*   **Playoffs**: The top four teams from the league stage advanced to the playoffs.\n",
      "*   **Final**: Royal Challengers Bengaluru (RCB) defeated Punjab Kings (PBKS) by 6 runs in the final to win their maiden IPL title. The final was held on June 3 at the Narendra Modi Stadium in Ahmedabad.\n",
      "*   **Key Performers**:\n",
      "    *   Sai Sudharsan of Gujarat Titans scored the most runs (759).\n",
      "    *   Prasidh Krishna of Gujarat Titans took the most wickets (25).\n",
      "    *   Suryakumar Yadav of Mumbai Indians was named the most valuable player of the tournament.\n",
      "*   **Title Sponsor**: The Tata Group continued as the title sponsors of the IPL for the 2024-2028 period.\n",
      "*   **Match timings**: Afternoon matches started at 3:30 PM IST, while evening matches were played at 7:30 PM IST.\n",
      "*   **Groups**: The 10 teams were divided into two groups:\n",
      "    *   Group A: Chennai Super Kings (CSK), Royal Challengers Bengaluru (RCB), Rajasthan Royals (RR), Punjab Kings (PBKS), Kolkata Knight Riders (KKR).\n",
      "    *   Group B: Mumbai Indians (MI), Gujarat Titans (GT), Delhi Capitals (DC), Sunrisers Hyderabad (SRH), Lucknow Super Giants (LSG).\n"
     ]
    }
   ],
   "source": [
    "resp = model.invoke(\n",
    "    \"tell me about ipl 2025 in summary\",\n",
    "    tools=[GenAITool(google_search={})],\n",
    ")\n",
    "\n",
    "print(resp.content)"
   ]
  },
  {
   "cell_type": "code",
   "execution_count": null,
   "id": "3f699942",
   "metadata": {},
   "outputs": [],
   "source": []
  }
 ],
 "metadata": {
  "kernelspec": {
   "display_name": "Python 3",
   "language": "python",
   "name": "python3"
  },
  "language_info": {
   "codemirror_mode": {
    "name": "ipython",
    "version": 3
   },
   "file_extension": ".py",
   "mimetype": "text/x-python",
   "name": "python",
   "nbconvert_exporter": "python",
   "pygments_lexer": "ipython3",
   "version": "3.10.18"
  }
 },
 "nbformat": 4,
 "nbformat_minor": 5
}
